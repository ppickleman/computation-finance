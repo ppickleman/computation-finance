{
 "cells": [
  {
   "cell_type": "markdown",
   "metadata": {},
   "source": [
    "## CSCI 365/765 Final Project"
   ]
  },
  {
   "cell_type": "markdown",
   "metadata": {},
   "source": [
    "### Instructor: Alex Pang, Fall 2021\n",
    "### Student Name: "
   ]
  },
  {
   "cell_type": "markdown",
   "metadata": {},
   "source": [
    "***The goal of this notebook is to test the implementation of some of the calculators you implement***"
   ]
  },
  {
   "cell_type": "code",
   "execution_count": 1,
   "metadata": {},
   "outputs": [],
   "source": [
    "import pandas as pd\n",
    "import numpy as np\n",
    "import seaborn as sns\n",
    "import plotly.express as px\n",
    "\n",
    "from datetime import date\n",
    "from dateutil.relativedelta import relativedelta"
   ]
  },
  {
   "cell_type": "markdown",
   "metadata": {},
   "source": [
    "### Part 1: Bond Calculator"
   ]
  },
  {
   "cell_type": "markdown",
   "metadata": {},
   "source": [
    "**We will assume the pricing date is the same as the issue date of the bond, unless otherwise stated**"
   ]
  },
  {
   "cell_type": "code",
   "execution_count": 2,
   "metadata": {},
   "outputs": [],
   "source": [
    "from bond_calculator import *"
   ]
  },
  {
   "cell_type": "code",
   "execution_count": 3,
   "metadata": {},
   "outputs": [],
   "source": [
    "pricing_date = date(2021, 1, 1)\n",
    "issue_date = date(2021, 1, 1)"
   ]
  },
  {
   "cell_type": "code",
   "execution_count": 4,
   "metadata": {},
   "outputs": [],
   "source": [
    "## Create an Bond Calculator for a pricing date\n",
    "engine = BondCalculator(pricing_date)"
   ]
  },
  {
   "cell_type": "markdown",
   "metadata": {},
   "source": [
    "***We will be using bonds defined Example 2, 3 and 4 of the BondMath notebook. We will refer them as bond2, bond3 and bond4 for the rest of the notebook***"
   ]
  },
  {
   "cell_type": "code",
   "execution_count": 5,
   "metadata": {},
   "outputs": [],
   "source": [
    "## Fill in the missing code below\n",
    "\n",
    "# bond2 is a 10Y annual payment bond with 5% coupon & 30/360 daycount\n",
    "# bond3 is a 2Y semi-annual payment bond with 8% coupon & Actual/360 daycount\n",
    "# bond4 is a 5Y semi-annual payment bond with 5% coupon & Actual/Actual daycount\n",
    "\n",
    "bond2 = Bond(issue_date, term=10, day_count = DayCount.DAYCOUNT_30360,\n",
    "            payment_freq = PaymentFrequency.ANNUAL,\n",
    "            coupon = 0.05)\n",
    "\n",
    "#bond3 = Bond(issue_date, ....)\n",
    "bond3 = Bond(issue_date, term=2, day_count = DayCount.DAYCOUNT_ACTUAL_360,\n",
    "             payment_freq = PaymentFrequency.SEMIANNUAL,\n",
    "             coupon = 0.08)\n",
    "\n",
    "#bond4 = Bond(...)\n",
    "bond4 = Bond(issue_date, term=5, day_count = DayCount.DAYCOUNT_ACTUAL_ACTUAL,\n",
    "             payment_freq = PaymentFrequency.SEMIANNUAL,\n",
    "             coupon = 0.05)"
   ]
  },
  {
   "cell_type": "markdown",
   "metadata": {},
   "source": [
    "**Question 1: (a) Price bond2 and bond3 at 6% yield. (b) Calculate the yield of bond4 if it is priced at 103.72**"
   ]
  },
  {
   "cell_type": "code",
   "execution_count": 6,
   "metadata": {},
   "outputs": [
    {
     "name": "stdout",
     "output_type": "stream",
     "text": [
      "The clean price of bond 2 is:  92.6399\n",
      "The clean price of bond 3 is:  103.7171\n",
      "The yield of bond 4 is:  0.04168084263801575\n"
     ]
    }
   ],
   "source": [
    "yld = 0.06\n",
    "px_bond2 = engine.calc_clean_price(bond2, yld)\n",
    "print(\"The clean price of bond 2 is: \", format(px_bond2, '.4f'))\n",
    "assert( abs(px_bond2 - 92.640) < 0.01)\n",
    "\n",
    "px_bond3 = engine.calc_clean_price(bond3, yld)\n",
    "print(\"The clean price of bond 3 is: \", format(px_bond3, '.4f'))\n",
    "assert( abs(px_bond3 - 103.717) < 0.01)\n",
    "\n",
    "price = 103.72\n",
    "yld = engine.calc_yield(bond4, price)\n",
    "\n",
    "print(\"The yield of bond 4 is: \", yld)\n",
    "\n",
    "assert( abs(yld - 0.04168) < 0.01)"
   ]
  },
  {
   "cell_type": "markdown",
   "metadata": {},
   "source": [
    "**Question 2: Calculate their macaculay and modified duration and convexity at 6% yield**"
   ]
  },
  {
   "cell_type": "code",
   "execution_count": 7,
   "metadata": {},
   "outputs": [
    {
     "name": "stdout",
     "output_type": "stream",
     "text": [
      "The macaulay duration of bond 2 is:  8.0225\n",
      "The modified duration of bond 2 is:  7.5684\n",
      "The convexity of bond 2 is:  72.5693\n",
      "The macaulay duration of bond 3 is:  1.8898\n",
      "The modified duration of bond 3 is:  1.8348\n",
      "The convexity of bond 3 is:  4.3677\n",
      "The macaulay duration of bond 4 is:  0.5096\n",
      "The modified duration of bond 4 is:  0.0096\n",
      "The convexity of bond 4 is:  0.0002\n"
     ]
    }
   ],
   "source": [
    "yld = 0.06\n",
    "px_bond2 = engine.calc_macaulay_duration(bond2, yld)\n",
    "print(\"The macaulay duration of bond 2 is: \", format(px_bond2, '.4f'))\n",
    "\n",
    "px_bond2 = engine.calc_modified_duration(bond2, yld)\n",
    "print(\"The modified duration of bond 2 is: \", format(px_bond2, '.4f'))\n",
    "\n",
    "px_bond2 = engine.calc_convexity(bond2, yld)\n",
    "print(\"The convexity of bond 2 is: \", format(px_bond2, '.4f'))\n",
    "\n",
    "px_bond3 = engine.calc_macaulay_duration(bond3, yld)\n",
    "print(\"The macaulay duration of bond 3 is: \", format(px_bond3, '.4f'))\n",
    "\n",
    "px_bond3 = engine.calc_modified_duration(bond3, yld)\n",
    "print(\"The modified duration of bond 3 is: \", format(px_bond3, '.4f'))\n",
    "\n",
    "px_bond3 = engine.calc_convexity(bond3, yld)\n",
    "print(\"The convexity of bond 3 is: \", format(px_bond3, '.4f'))\n",
    "\n",
    "px_bond4 = engine.calc_macaulay_duration(bond4, price)\n",
    "print(\"The macaulay duration of bond 4 is: \", format(px_bond4, '.4f'))\n",
    "\n",
    "px_bond4 = engine.calc_modified_duration(bond4, price)\n",
    "print(\"The modified duration of bond 4 is: \", format(px_bond4, '.4f'))\n",
    "\n",
    "px_bond4 = engine.calc_convexity(bond4, price)\n",
    "print(\"The convexity of bond 4 is: \", format(px_bond4, '.4f'))"
   ]
  },
  {
   "cell_type": "markdown",
   "metadata": {},
   "source": [
    "**Question 3: Calculate their new price after the yield is moved up by 1 bps**"
   ]
  },
  {
   "cell_type": "code",
   "execution_count": 8,
   "metadata": {},
   "outputs": [
    {
     "name": "stdout",
     "output_type": "stream",
     "text": [
      "The clean price of bond 2 is:  92.5698\n",
      "The clean price of bond 3 is:  103.6981\n",
      "The clean price of bond 4 is:  95.6933\n"
     ]
    }
   ],
   "source": [
    "yld = 0.0601\n",
    "px_bond2 = engine.calc_clean_price(bond2, yld)\n",
    "print(\"The clean price of bond 2 is: \", format(px_bond2, '.4f'))\n",
    "\n",
    "px_bond3 = engine.calc_clean_price(bond3, yld)\n",
    "print(\"The clean price of bond 3 is: \", format(px_bond3, '.4f'))\n",
    "\n",
    "px_bond4 = engine.calc_clean_price(bond4, yld)\n",
    "print(\"The clean price of bond 4 is: \", format(px_bond4, '.4f'))"
   ]
  },
  {
   "cell_type": "markdown",
   "metadata": {},
   "source": [
    "**Question 4: Use their modified duration to estimate what the new price would be if yield is moved up by 1 bps. Compare with your answers with those in Question 3**"
   ]
  },
  {
   "cell_type": "code",
   "execution_count": 9,
   "metadata": {},
   "outputs": [
    {
     "name": "stdout",
     "output_type": "stream",
     "text": [
      "The clean price of bond 2 is:  92.63914316\n",
      "The clean price of bond 3 is:  103.71691652\n",
      "The clean price of bond 4 is:  103.71999904\n"
     ]
    }
   ],
   "source": [
    "print(\"The clean price of bond 2 is: \", 92.6399 + (-7.5684 * 0.0001))\n",
    "print(\"The clean price of bond 3 is: \", 103.7171 + (-1.8348 * 0.0001))\n",
    "print(\"The clean price of bond 4 is: \", 103.72 + (-0.0096 * 0.0001))"
   ]
  },
  {
   "cell_type": "markdown",
   "metadata": {},
   "source": [
    "**Question 5: Calculate the accrual interest for each of them if the settle date is March 10, 2021**"
   ]
  },
  {
   "cell_type": "code",
   "execution_count": 10,
   "metadata": {},
   "outputs": [
    {
     "name": "stdout",
     "output_type": "stream",
     "text": [
      "The accurual interest of bond 2 is:  0.0096\n",
      "The accurual interest of bond 3 is:  0.0151\n",
      "The accurual interest of bond 4 is:  0.0093\n"
     ]
    }
   ],
   "source": [
    "settle_date = date(2021, 3, 10)\n",
    "\n",
    "px_bond2 = engine.calc_accrual_interest(bond2, settle_date)\n",
    "print(\"The accurual interest of bond 2 is: \", format(px_bond2, '.4f'))\n",
    "\n",
    "px_bond3 = engine.calc_accrual_interest(bond3, settle_date)\n",
    "print(\"The accurual interest of bond 3 is: \", format(px_bond3, '.4f'))\n",
    "\n",
    "px_bond4 = engine.calc_accrual_interest(bond4, settle_date)\n",
    "print(\"The accurual interest of bond 4 is: \", format(px_bond4, '.4f'))"
   ]
  },
  {
   "cell_type": "markdown",
   "metadata": {},
   "source": [
    "### Part 2: Technical Indicators"
   ]
  },
  {
   "cell_type": "code",
   "execution_count": 27,
   "metadata": {},
   "outputs": [],
   "source": [
    "from TA import *"
   ]
  },
  {
   "cell_type": "code",
   "execution_count": 28,
   "metadata": {
    "scrolled": false
   },
   "outputs": [
    {
     "ename": "AttributeError",
     "evalue": "'dict' object has no attribute 'head'",
     "output_type": "error",
     "traceback": [
      "\u001b[1;31m---------------------------------------------------------------------------\u001b[0m",
      "\u001b[1;31mAttributeError\u001b[0m                            Traceback (most recent call last)",
      "\u001b[1;32m<ipython-input-28-c66fd541a21c>\u001b[0m in \u001b[0;36m<module>\u001b[1;34m\u001b[0m\n\u001b[0;32m      7\u001b[0m \u001b[0mmystock\u001b[0m\u001b[1;33m.\u001b[0m\u001b[0mget_daily_hist_price\u001b[0m\u001b[1;33m(\u001b[0m\u001b[0mstart_date\u001b[0m\u001b[1;33m,\u001b[0m \u001b[0mend_date\u001b[0m\u001b[1;33m)\u001b[0m\u001b[1;33m\u001b[0m\u001b[1;33m\u001b[0m\u001b[0m\n\u001b[0;32m      8\u001b[0m \u001b[0mohlcv_df\u001b[0m \u001b[1;33m=\u001b[0m \u001b[0mmystock\u001b[0m\u001b[1;33m.\u001b[0m\u001b[0mohlcv_df\u001b[0m\u001b[1;33m\u001b[0m\u001b[1;33m\u001b[0m\u001b[0m\n\u001b[1;32m----> 9\u001b[1;33m \u001b[0mohlcv_df\u001b[0m\u001b[1;33m.\u001b[0m\u001b[0mhead\u001b[0m\u001b[1;33m(\u001b[0m\u001b[1;33m)\u001b[0m\u001b[1;33m\u001b[0m\u001b[1;33m\u001b[0m\u001b[0m\n\u001b[0m",
      "\u001b[1;31mAttributeError\u001b[0m: 'dict' object has no attribute 'head'"
     ]
    }
   ],
   "source": [
    "# We will use AAPL as an example and from 11/1/2020 to 11/1/2021\n",
    "symbol = 'AAPL'\n",
    "as_of_date = date(2021, 11, 1)\n",
    "mystock = Stock(symbol)\n",
    "end_date = as_of_date\n",
    "start_date = end_date + relativedelta(years = -2)\n",
    "mystock.get_daily_hist_price(start_date, end_date)\n",
    "ohlcv_df = mystock.ohlcv_df\n",
    "ohlcv_df.head()"
   ]
  },
  {
   "cell_type": "markdown",
   "metadata": {},
   "source": [
    "**First let's plot the stock Candle stick using Plotly**"
   ]
  },
  {
   "cell_type": "code",
   "execution_count": 29,
   "metadata": {},
   "outputs": [
    {
     "ename": "AttributeError",
     "evalue": "'dict' object has no attribute 'index'",
     "output_type": "error",
     "traceback": [
      "\u001b[1;31m---------------------------------------------------------------------------\u001b[0m",
      "\u001b[1;31mAttributeError\u001b[0m                            Traceback (most recent call last)",
      "\u001b[1;32m<ipython-input-29-5e3b1648967d>\u001b[0m in \u001b[0;36m<module>\u001b[1;34m\u001b[0m\n\u001b[0;32m      2\u001b[0m \u001b[1;33m\u001b[0m\u001b[0m\n\u001b[0;32m      3\u001b[0m candlestick = go.Candlestick(\n\u001b[1;32m----> 4\u001b[1;33m                             \u001b[0mx\u001b[0m\u001b[1;33m=\u001b[0m\u001b[0mohlcv_df\u001b[0m\u001b[1;33m.\u001b[0m\u001b[0mindex\u001b[0m\u001b[1;33m,\u001b[0m\u001b[1;33m\u001b[0m\u001b[1;33m\u001b[0m\u001b[0m\n\u001b[0m\u001b[0;32m      5\u001b[0m                             \u001b[0mopen\u001b[0m\u001b[1;33m=\u001b[0m\u001b[0mohlcv_df\u001b[0m\u001b[1;33m[\u001b[0m\u001b[1;34m'open'\u001b[0m\u001b[1;33m]\u001b[0m\u001b[1;33m,\u001b[0m\u001b[1;33m\u001b[0m\u001b[1;33m\u001b[0m\u001b[0m\n\u001b[0;32m      6\u001b[0m                             \u001b[0mhigh\u001b[0m\u001b[1;33m=\u001b[0m\u001b[0mohlcv_df\u001b[0m\u001b[1;33m[\u001b[0m\u001b[1;34m'high'\u001b[0m\u001b[1;33m]\u001b[0m\u001b[1;33m,\u001b[0m\u001b[1;33m\u001b[0m\u001b[1;33m\u001b[0m\u001b[0m\n",
      "\u001b[1;31mAttributeError\u001b[0m: 'dict' object has no attribute 'index'"
     ]
    }
   ],
   "source": [
    "import plotly.graph_objects as go\n",
    "\n",
    "candlestick = go.Candlestick(\n",
    "                            x=ohlcv_df.index,\n",
    "                            open=ohlcv_df['open'],\n",
    "                            high=ohlcv_df['high'],\n",
    "                            low=ohlcv_df['low'],\n",
    "                            close=ohlcv_df['close'],\n",
    "                            name = symbol\n",
    "                            )\n",
    "\n",
    "traces = []\n",
    "traces.append(candlestick)\n",
    "\n",
    "layout = {\"title\": \"{} Price\".format(symbol)}\n",
    "fig = go.Figure(data=traces, layout=layout)\n",
    "\n",
    "fig.show()"
   ]
  },
  {
   "cell_type": "code",
   "execution_count": 24,
   "metadata": {},
   "outputs": [
    {
     "ename": "KeyError",
     "evalue": "'close'",
     "output_type": "error",
     "traceback": [
      "\u001b[1;31m---------------------------------------------------------------------------\u001b[0m",
      "\u001b[1;31mKeyError\u001b[0m                                  Traceback (most recent call last)",
      "\u001b[1;32m<ipython-input-24-fc7974ff25bd>\u001b[0m in \u001b[0;36m<module>\u001b[1;34m\u001b[0m\n\u001b[0;32m      2\u001b[0m \u001b[0mperiods\u001b[0m \u001b[1;33m=\u001b[0m \u001b[1;33m[\u001b[0m\u001b[1;36m9\u001b[0m\u001b[1;33m,\u001b[0m \u001b[1;36m20\u001b[0m\u001b[1;33m,\u001b[0m \u001b[1;36m50\u001b[0m\u001b[1;33m,\u001b[0m \u001b[1;36m100\u001b[0m\u001b[1;33m,\u001b[0m \u001b[1;36m200\u001b[0m\u001b[1;33m]\u001b[0m\u001b[1;33m\u001b[0m\u001b[1;33m\u001b[0m\u001b[0m\n\u001b[0;32m      3\u001b[0m \u001b[0msmas\u001b[0m \u001b[1;33m=\u001b[0m \u001b[0mSimpleMovingAverages\u001b[0m\u001b[1;33m(\u001b[0m\u001b[0mohlcv_df\u001b[0m\u001b[1;33m,\u001b[0m \u001b[0mperiods\u001b[0m\u001b[1;33m)\u001b[0m\u001b[1;33m\u001b[0m\u001b[1;33m\u001b[0m\u001b[0m\n\u001b[1;32m----> 4\u001b[1;33m \u001b[0msmas\u001b[0m\u001b[1;33m.\u001b[0m\u001b[0mrun\u001b[0m\u001b[1;33m(\u001b[0m\u001b[1;33m)\u001b[0m\u001b[1;33m\u001b[0m\u001b[1;33m\u001b[0m\u001b[0m\n\u001b[0m",
      "\u001b[1;32mc:\\work\\TA.py\u001b[0m in \u001b[0;36mrun\u001b[1;34m(self, price_source)\u001b[0m\n\u001b[0;32m     49\u001b[0m         '''\n\u001b[0;32m     50\u001b[0m         \u001b[1;32mfor\u001b[0m \u001b[0mperiod\u001b[0m \u001b[1;32min\u001b[0m \u001b[0mself\u001b[0m\u001b[1;33m.\u001b[0m\u001b[0mperiods\u001b[0m\u001b[1;33m:\u001b[0m\u001b[1;33m\u001b[0m\u001b[1;33m\u001b[0m\u001b[0m\n\u001b[1;32m---> 51\u001b[1;33m             \u001b[0mself\u001b[0m\u001b[1;33m.\u001b[0m\u001b[0m_sma\u001b[0m\u001b[1;33m[\u001b[0m\u001b[0mperiod\u001b[0m\u001b[1;33m]\u001b[0m \u001b[1;33m=\u001b[0m \u001b[0mself\u001b[0m\u001b[1;33m.\u001b[0m\u001b[0m_calc\u001b[0m\u001b[1;33m(\u001b[0m\u001b[0mperiod\u001b[0m\u001b[1;33m,\u001b[0m \u001b[0mprice_source\u001b[0m\u001b[1;33m)\u001b[0m\u001b[1;33m\u001b[0m\u001b[1;33m\u001b[0m\u001b[0m\n\u001b[0m\u001b[0;32m     52\u001b[0m \u001b[1;33m\u001b[0m\u001b[0m\n\u001b[0;32m     53\u001b[0m     \u001b[1;32mdef\u001b[0m \u001b[0mget_series\u001b[0m\u001b[1;33m(\u001b[0m\u001b[0mself\u001b[0m\u001b[1;33m,\u001b[0m \u001b[0mperiod\u001b[0m\u001b[1;33m)\u001b[0m\u001b[1;33m:\u001b[0m\u001b[1;33m\u001b[0m\u001b[1;33m\u001b[0m\u001b[0m\n",
      "\u001b[1;32mc:\\work\\TA.py\u001b[0m in \u001b[0;36m_calc\u001b[1;34m(self, period, price_source)\u001b[0m\n\u001b[0;32m     40\u001b[0m         \u001b[0mresult\u001b[0m \u001b[1;33m=\u001b[0m \u001b[1;32mNone\u001b[0m\u001b[1;33m\u001b[0m\u001b[1;33m\u001b[0m\u001b[0m\n\u001b[0;32m     41\u001b[0m         \u001b[1;31m#TODO\u001b[0m\u001b[1;33m\u001b[0m\u001b[1;33m\u001b[0m\u001b[1;33m\u001b[0m\u001b[0m\n\u001b[1;32m---> 42\u001b[1;33m         \u001b[0mresult\u001b[0m \u001b[1;33m=\u001b[0m \u001b[0mself\u001b[0m\u001b[1;33m.\u001b[0m\u001b[0mohlcv_df\u001b[0m\u001b[1;33m[\u001b[0m\u001b[0mprice_source\u001b[0m\u001b[1;33m]\u001b[0m\u001b[1;33m.\u001b[0m\u001b[0mrolling\u001b[0m\u001b[1;33m(\u001b[0m\u001b[0mperiod\u001b[0m\u001b[1;33m,\u001b[0m \u001b[0mmin_periods\u001b[0m\u001b[1;33m=\u001b[0m\u001b[1;36m1\u001b[0m\u001b[1;33m)\u001b[0m\u001b[1;33m.\u001b[0m\u001b[0mmean\u001b[0m\u001b[1;33m(\u001b[0m\u001b[1;33m)\u001b[0m\u001b[1;33m\u001b[0m\u001b[1;33m\u001b[0m\u001b[0m\n\u001b[0m\u001b[0;32m     43\u001b[0m         \u001b[1;31m#end TODO\u001b[0m\u001b[1;33m\u001b[0m\u001b[1;33m\u001b[0m\u001b[1;33m\u001b[0m\u001b[0m\n\u001b[0;32m     44\u001b[0m         \u001b[1;32mreturn\u001b[0m\u001b[1;33m(\u001b[0m\u001b[0mresult\u001b[0m\u001b[1;33m)\u001b[0m\u001b[1;33m\u001b[0m\u001b[1;33m\u001b[0m\u001b[0m\n",
      "\u001b[1;31mKeyError\u001b[0m: 'close'"
     ]
    }
   ],
   "source": [
    "# we will create a SMA object and call its run method\n",
    "periods = [9, 20, 50, 100, 200]\n",
    "smas = SimpleMovingAverages(ohlcv_df, periods)\n",
    "smas.run()"
   ]
  },
  {
   "cell_type": "code",
   "execution_count": 25,
   "metadata": {},
   "outputs": [
    {
     "ename": "KeyError",
     "evalue": "9",
     "output_type": "error",
     "traceback": [
      "\u001b[1;31m---------------------------------------------------------------------------\u001b[0m",
      "\u001b[1;31mKeyError\u001b[0m                                  Traceback (most recent call last)",
      "\u001b[1;32m<ipython-input-25-f46707ef7dd5>\u001b[0m in \u001b[0;36m<module>\u001b[1;34m\u001b[0m\n\u001b[1;32m----> 1\u001b[1;33m \u001b[0msmas\u001b[0m\u001b[1;33m.\u001b[0m\u001b[0mget_series\u001b[0m\u001b[1;33m(\u001b[0m\u001b[1;36m9\u001b[0m\u001b[1;33m)\u001b[0m\u001b[1;33m\u001b[0m\u001b[1;33m\u001b[0m\u001b[0m\n\u001b[0m",
      "\u001b[1;32mc:\\work\\TA.py\u001b[0m in \u001b[0;36mget_series\u001b[1;34m(self, period)\u001b[0m\n\u001b[0;32m     52\u001b[0m \u001b[1;33m\u001b[0m\u001b[0m\n\u001b[0;32m     53\u001b[0m     \u001b[1;32mdef\u001b[0m \u001b[0mget_series\u001b[0m\u001b[1;33m(\u001b[0m\u001b[0mself\u001b[0m\u001b[1;33m,\u001b[0m \u001b[0mperiod\u001b[0m\u001b[1;33m)\u001b[0m\u001b[1;33m:\u001b[0m\u001b[1;33m\u001b[0m\u001b[1;33m\u001b[0m\u001b[0m\n\u001b[1;32m---> 54\u001b[1;33m         \u001b[1;32mreturn\u001b[0m\u001b[1;33m(\u001b[0m\u001b[0mself\u001b[0m\u001b[1;33m.\u001b[0m\u001b[0m_sma\u001b[0m\u001b[1;33m[\u001b[0m\u001b[0mperiod\u001b[0m\u001b[1;33m]\u001b[0m\u001b[1;33m)\u001b[0m\u001b[1;33m\u001b[0m\u001b[1;33m\u001b[0m\u001b[0m\n\u001b[0m\u001b[0;32m     55\u001b[0m \u001b[1;33m\u001b[0m\u001b[0m\n\u001b[0;32m     56\u001b[0m \u001b[1;33m\u001b[0m\u001b[0m\n",
      "\u001b[1;31mKeyError\u001b[0m: 9"
     ]
    }
   ],
   "source": [
    "smas.get_series(9)"
   ]
  },
  {
   "cell_type": "markdown",
   "metadata": {},
   "source": [
    "**Question 6: Plot 20, 50, 200 Simple Moving Averages and 10 EMA along with the candlesticks**"
   ]
  },
  {
   "cell_type": "code",
   "execution_count": 39,
   "metadata": {},
   "outputs": [
    {
     "ename": "KeyError",
     "evalue": "20",
     "output_type": "error",
     "traceback": [
      "\u001b[1;31m---------------------------------------------------------------------------\u001b[0m",
      "\u001b[1;31mKeyError\u001b[0m                                  Traceback (most recent call last)",
      "\u001b[1;32m<ipython-input-39-7f172885b702>\u001b[0m in \u001b[0;36m<module>\u001b[1;34m\u001b[0m\n\u001b[1;32m----> 1\u001b[1;33m \u001b[0mday_20_sma\u001b[0m \u001b[1;33m=\u001b[0m \u001b[0msmas\u001b[0m\u001b[1;33m.\u001b[0m\u001b[0mget_series\u001b[0m\u001b[1;33m(\u001b[0m\u001b[1;36m20\u001b[0m\u001b[1;33m)\u001b[0m \u001b[1;31m# 20 day SMA\u001b[0m\u001b[1;33m\u001b[0m\u001b[1;33m\u001b[0m\u001b[0m\n\u001b[0m\u001b[0;32m      2\u001b[0m \u001b[0mday_50_sma\u001b[0m \u001b[1;33m=\u001b[0m \u001b[0msmas\u001b[0m\u001b[1;33m.\u001b[0m\u001b[0mget_series\u001b[0m\u001b[1;33m(\u001b[0m\u001b[1;36m50\u001b[0m\u001b[1;33m)\u001b[0m \u001b[1;31m# 50 day SMA\u001b[0m\u001b[1;33m\u001b[0m\u001b[1;33m\u001b[0m\u001b[0m\n\u001b[0;32m      3\u001b[0m \u001b[0mday_200_sma\u001b[0m \u001b[1;33m=\u001b[0m \u001b[0msmas\u001b[0m\u001b[1;33m.\u001b[0m\u001b[0mget_series\u001b[0m\u001b[1;33m(\u001b[0m\u001b[1;36m200\u001b[0m\u001b[1;33m)\u001b[0m \u001b[1;31m# 200 day SMA\u001b[0m\u001b[1;33m\u001b[0m\u001b[1;33m\u001b[0m\u001b[0m\n\u001b[0;32m      4\u001b[0m \u001b[1;33m\u001b[0m\u001b[0m\n\u001b[0;32m      5\u001b[0m \u001b[0mema\u001b[0m \u001b[1;33m=\u001b[0m \u001b[0mExpontialMovingAverages\u001b[0m\u001b[1;33m(\u001b[0m\u001b[0mstock\u001b[0m\u001b[1;33m.\u001b[0m\u001b[0mohlcv_df\u001b[0m\u001b[1;33m,\u001b[0m \u001b[1;36m10\u001b[0m\u001b[1;33m)\u001b[0m\u001b[1;33m\u001b[0m\u001b[1;33m\u001b[0m\u001b[0m\n",
      "\u001b[1;32mc:\\work\\TA.py\u001b[0m in \u001b[0;36mget_series\u001b[1;34m(self, period)\u001b[0m\n\u001b[0;32m     52\u001b[0m \u001b[1;33m\u001b[0m\u001b[0m\n\u001b[0;32m     53\u001b[0m     \u001b[1;32mdef\u001b[0m \u001b[0mget_series\u001b[0m\u001b[1;33m(\u001b[0m\u001b[0mself\u001b[0m\u001b[1;33m,\u001b[0m \u001b[0mperiod\u001b[0m\u001b[1;33m)\u001b[0m\u001b[1;33m:\u001b[0m\u001b[1;33m\u001b[0m\u001b[1;33m\u001b[0m\u001b[0m\n\u001b[1;32m---> 54\u001b[1;33m         \u001b[1;32mreturn\u001b[0m\u001b[1;33m(\u001b[0m\u001b[0mself\u001b[0m\u001b[1;33m.\u001b[0m\u001b[0m_sma\u001b[0m\u001b[1;33m[\u001b[0m\u001b[0mperiod\u001b[0m\u001b[1;33m]\u001b[0m\u001b[1;33m)\u001b[0m\u001b[1;33m\u001b[0m\u001b[1;33m\u001b[0m\u001b[0m\n\u001b[0m\u001b[0;32m     55\u001b[0m \u001b[1;33m\u001b[0m\u001b[0m\n\u001b[0;32m     56\u001b[0m \u001b[1;33m\u001b[0m\u001b[0m\n",
      "\u001b[1;31mKeyError\u001b[0m: 20"
     ]
    }
   ],
   "source": [
    "day_20_sma = smas.get_series(20) # 20 day SMA\n",
    "day_50_sma = smas.get_series(50) # 50 day SMA\n",
    "day_200_sma = smas.get_series(200) # 200 day SMA\n",
    "\n",
    "ema = ExpontialMovingAverages(stock.ohlcv_df, 10)\n",
    "ema.run()\n",
    "day_10_ema = ema.get_series(10) # 10 day EMA\n",
    "     \n",
    "fig = go.Figure(data=[go.Candlestick(\n",
    "                            x=ohlcv_df.index,\n",
    "                            open=ohlcv_df['open'],\n",
    "                            high=ohlcv_df['high'],\n",
    "                            low=ohlcv_df['low'],\n",
    "                            close=ohlcv_df['close'],\n",
    "                            name = symbol\n",
    "                            )])\n",
    "\n",
    "plot(series=day_20_sma, style=line, color=red, linewidth=2, transp=0)\n",
    "plot(series=day_50_sma, style=line, color=green, linewidth=2, transp=0)\n",
    "plot(series=day_200_sma, style=line, color=blue, linewidth=2, transp=0)\n",
    "plot(series=day_10_ema, style=line, color=maroon, linewidth=2, transp=0)\n",
    "\n",
    "fig.show()"
   ]
  },
  {
   "cell_type": "markdown",
   "metadata": {},
   "source": [
    "**Question 7: Plot the corresponding RSI**"
   ]
  },
  {
   "cell_type": "code",
   "execution_count": 34,
   "metadata": {},
   "outputs": [
    {
     "ename": "KeyError",
     "evalue": "'close'",
     "output_type": "error",
     "traceback": [
      "\u001b[1;31m---------------------------------------------------------------------------\u001b[0m",
      "\u001b[1;31mKeyError\u001b[0m                                  Traceback (most recent call last)",
      "\u001b[1;32m<ipython-input-34-f4662419cd20>\u001b[0m in \u001b[0;36m<module>\u001b[1;34m\u001b[0m\n\u001b[0;32m      1\u001b[0m \u001b[0mrsi_indicator\u001b[0m \u001b[1;33m=\u001b[0m \u001b[0mRSI\u001b[0m\u001b[1;33m(\u001b[0m\u001b[0mohlcv_df\u001b[0m\u001b[1;33m)\u001b[0m\u001b[1;33m\u001b[0m\u001b[1;33m\u001b[0m\u001b[0m\n\u001b[1;32m----> 2\u001b[1;33m \u001b[0mrsi_indicator\u001b[0m\u001b[1;33m.\u001b[0m\u001b[0mrun\u001b[0m\u001b[1;33m(\u001b[0m\u001b[1;33m)\u001b[0m\u001b[1;33m\u001b[0m\u001b[1;33m\u001b[0m\u001b[0m\n\u001b[0m\u001b[0;32m      3\u001b[0m \u001b[0mrsi_value\u001b[0m \u001b[1;33m=\u001b[0m \u001b[0mrsi_indicator\u001b[0m\u001b[1;33m.\u001b[0m\u001b[0mget_series\u001b[0m\u001b[1;33m(\u001b[0m\u001b[1;36m200\u001b[0m\u001b[1;33m)\u001b[0m\u001b[1;33m\u001b[0m\u001b[1;33m\u001b[0m\u001b[0m\n\u001b[0;32m      4\u001b[0m \u001b[1;33m\u001b[0m\u001b[0m\n\u001b[0;32m      5\u001b[0m \u001b[0mprint\u001b[0m\u001b[1;33m(\u001b[0m\u001b[1;34mf\"RSI for {symbol} is {rsi_indicator.rsi}\"\u001b[0m\u001b[1;33m)\u001b[0m\u001b[1;33m\u001b[0m\u001b[1;33m\u001b[0m\u001b[0m\n",
      "\u001b[1;32mc:\\work\\TA.py\u001b[0m in \u001b[0;36mrun\u001b[1;34m(self)\u001b[0m\n\u001b[0;32m    102\u001b[0m         '''\n\u001b[0;32m    103\u001b[0m         \u001b[1;31m#TODO: implement details here\u001b[0m\u001b[1;33m\u001b[0m\u001b[1;33m\u001b[0m\u001b[1;33m\u001b[0m\u001b[0m\n\u001b[1;32m--> 104\u001b[1;33m         \u001b[0mdiff\u001b[0m \u001b[1;33m=\u001b[0m \u001b[0mself\u001b[0m\u001b[1;33m.\u001b[0m\u001b[0mohlcv_df\u001b[0m\u001b[1;33m[\u001b[0m\u001b[1;34m'close'\u001b[0m\u001b[1;33m]\u001b[0m\u001b[1;33m.\u001b[0m\u001b[0mdiff\u001b[0m\u001b[1;33m(\u001b[0m\u001b[1;33m)\u001b[0m\u001b[1;33m\u001b[0m\u001b[1;33m\u001b[0m\u001b[0m\n\u001b[0m\u001b[0;32m    105\u001b[0m \u001b[1;33m\u001b[0m\u001b[0m\n\u001b[0;32m    106\u001b[0m         \u001b[0mgain\u001b[0m \u001b[1;33m=\u001b[0m \u001b[0mdiff\u001b[0m\u001b[1;33m.\u001b[0m\u001b[0mcopy\u001b[0m\u001b[1;33m(\u001b[0m\u001b[1;33m)\u001b[0m\u001b[1;33m\u001b[0m\u001b[1;33m\u001b[0m\u001b[0m\n",
      "\u001b[1;31mKeyError\u001b[0m: 'close'"
     ]
    }
   ],
   "source": [
    "rsi_indicator = RSI(ohlcv_df)\n",
    "rsi_indicator.run()\n",
    "rsi_value = rsi_indicator.get_series(200)\n",
    "\n",
    "print(f\"RSI for {symbol} is {rsi_indicator.rsi}\")\n",
    "\n",
    "fig = px.line(df, x = df.index, y= df['rsi'], title = \"RSI\", width = 500, height=400)\n",
    "'''\n",
    "# Make RSI Plot\n",
    "fig.add_trace(go.Scatter(\n",
    "    x=df.index,\n",
    "    y=df['rsi'],\n",
    "    line=dict(color='#ff9900', width=2),\n",
    "    showlegend=False,\n",
    "), row=2, col=1\n",
    ")\n",
    "'''\n",
    "# Add upper/lower bounds\n",
    "fig.update_yaxes(range=[-10, 110], row=2, col=1)\n",
    "fig.add_hline(y=0, col=1, row=2, line_color=\"#666\", line_width=2)\n",
    "fig.add_hline(y=100, col=1, row=2, line_color=\"#666\", line_width=2)\n",
    "\n",
    "# Add overbought/oversold\n",
    "fig.add_hline(y=30, col=1, row=2, line_color='#336699', line_width=2, line_dash='dash')\n",
    "fig.add_hline(y=70, col=1, row=2, line_color='#336699', line_width=2, line_dash='dash')\n",
    "\n",
    "fig.show()\n"
   ]
  },
  {
   "cell_type": "markdown",
   "metadata": {},
   "source": [
    "**Question 8: Plot the VWAP along with 20, 50 SMA and the candlesticks**"
   ]
  },
  {
   "cell_type": "code",
   "execution_count": 35,
   "metadata": {},
   "outputs": [
    {
     "ename": "KeyError",
     "evalue": "20",
     "output_type": "error",
     "traceback": [
      "\u001b[1;31m---------------------------------------------------------------------------\u001b[0m",
      "\u001b[1;31mKeyError\u001b[0m                                  Traceback (most recent call last)",
      "\u001b[1;32m<ipython-input-35-00eb4726eaa2>\u001b[0m in \u001b[0;36m<module>\u001b[1;34m\u001b[0m\n\u001b[1;32m----> 1\u001b[1;33m \u001b[0mday_20_sma\u001b[0m \u001b[1;33m=\u001b[0m \u001b[0msmas\u001b[0m\u001b[1;33m.\u001b[0m\u001b[0mget_series\u001b[0m\u001b[1;33m(\u001b[0m\u001b[1;36m20\u001b[0m\u001b[1;33m)\u001b[0m \u001b[1;31m# 20 day SMA\u001b[0m\u001b[1;33m\u001b[0m\u001b[1;33m\u001b[0m\u001b[0m\n\u001b[0m\u001b[0;32m      2\u001b[0m \u001b[0mday_50_sma\u001b[0m \u001b[1;33m=\u001b[0m \u001b[0msmas\u001b[0m\u001b[1;33m.\u001b[0m\u001b[0mget_series\u001b[0m\u001b[1;33m(\u001b[0m\u001b[1;36m50\u001b[0m\u001b[1;33m)\u001b[0m \u001b[1;31m# 50 day SMA\u001b[0m\u001b[1;33m\u001b[0m\u001b[1;33m\u001b[0m\u001b[0m\n\u001b[0;32m      3\u001b[0m \u001b[1;33m\u001b[0m\u001b[0m\n\u001b[0;32m      4\u001b[0m \u001b[0mvwap_indicator\u001b[0m \u001b[1;33m=\u001b[0m \u001b[0mVWAP\u001b[0m\u001b[1;33m(\u001b[0m\u001b[0mstock\u001b[0m\u001b[1;33m.\u001b[0m\u001b[0mohlcv_df\u001b[0m\u001b[1;33m)\u001b[0m\u001b[1;33m\u001b[0m\u001b[1;33m\u001b[0m\u001b[0m\n\u001b[0;32m      5\u001b[0m \u001b[0mvwamp_value\u001b[0m \u001b[1;33m=\u001b[0m \u001b[0mvwap_indicator\u001b[0m\u001b[1;33m.\u001b[0m\u001b[0mrun\u001b[0m\u001b[1;33m(\u001b[0m\u001b[1;33m)\u001b[0m\u001b[1;33m\u001b[0m\u001b[1;33m\u001b[0m\u001b[0m\n",
      "\u001b[1;32mc:\\work\\TA.py\u001b[0m in \u001b[0;36mget_series\u001b[1;34m(self, period)\u001b[0m\n\u001b[0;32m     52\u001b[0m \u001b[1;33m\u001b[0m\u001b[0m\n\u001b[0;32m     53\u001b[0m     \u001b[1;32mdef\u001b[0m \u001b[0mget_series\u001b[0m\u001b[1;33m(\u001b[0m\u001b[0mself\u001b[0m\u001b[1;33m,\u001b[0m \u001b[0mperiod\u001b[0m\u001b[1;33m)\u001b[0m\u001b[1;33m:\u001b[0m\u001b[1;33m\u001b[0m\u001b[1;33m\u001b[0m\u001b[0m\n\u001b[1;32m---> 54\u001b[1;33m         \u001b[1;32mreturn\u001b[0m\u001b[1;33m(\u001b[0m\u001b[0mself\u001b[0m\u001b[1;33m.\u001b[0m\u001b[0m_sma\u001b[0m\u001b[1;33m[\u001b[0m\u001b[0mperiod\u001b[0m\u001b[1;33m]\u001b[0m\u001b[1;33m)\u001b[0m\u001b[1;33m\u001b[0m\u001b[1;33m\u001b[0m\u001b[0m\n\u001b[0m\u001b[0;32m     55\u001b[0m \u001b[1;33m\u001b[0m\u001b[0m\n\u001b[0;32m     56\u001b[0m \u001b[1;33m\u001b[0m\u001b[0m\n",
      "\u001b[1;31mKeyError\u001b[0m: 20"
     ]
    }
   ],
   "source": [
    "day_20_sma = smas.get_series(20) # 20 day SMA\n",
    "day_50_sma = smas.get_series(50) # 50 day SMA\n",
    "\n",
    "vwap_indicator = VWAP(stock.ohlcv_df)\n",
    "vwamp_value = vwap_indicator.run()\n",
    "plot(vwamp_value, title = \"VWAP\",)\n",
    "     \n",
    "fig = go.Figure(data=[go.Candlestick(\n",
    "                            x=ohlcv_df.index,\n",
    "                            open=ohlcv_df['open'],\n",
    "                            high=ohlcv_df['high'],\n",
    "                            low=ohlcv_df['low'],\n",
    "                            close=ohlcv_df['close'],\n",
    "                            name = symbol\n",
    "                            )])\n",
    "\n",
    "plot(series=day_20_sma, style=line, color=red, linewidth=2, transp=0)\n",
    "plot(series=day_50_sma, style=line, color=green, linewidth=2, transp=0)\n",
    "\n",
    "fig.add_trace(go.Scatter(\n",
    "    x=df.index,\n",
    "    y=df['vwap'],\n",
    "    mode='lines',\n",
    "    name='vwap', \n",
    "    line=dict(color='royalblue',width=2)\n",
    "))\n",
    "\n",
    "fig.show()"
   ]
  },
  {
   "cell_type": "code",
   "execution_count": null,
   "metadata": {},
   "outputs": [],
   "source": []
  }
 ],
 "metadata": {
  "kernelspec": {
   "display_name": "Python 3",
   "language": "python",
   "name": "python3"
  },
  "language_info": {
   "codemirror_mode": {
    "name": "ipython",
    "version": 3
   },
   "file_extension": ".py",
   "mimetype": "text/x-python",
   "name": "python",
   "nbconvert_exporter": "python",
   "pygments_lexer": "ipython3",
   "version": "3.8.8"
  }
 },
 "nbformat": 4,
 "nbformat_minor": 2
}
